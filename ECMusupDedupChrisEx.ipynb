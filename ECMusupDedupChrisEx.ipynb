{
 "cells": [
  {
   "cell_type": "code",
   "execution_count": 322,
   "metadata": {},
   "outputs": [],
   "source": [
    "import pandas as pd\n",
    "\n",
    "data=pd.read_csv(\"C:\\\\Users\\\\bjgauche\\\\Work Folders\\\\Documents\\\\NonProdDataFiles\\\\AFFIRMATIVE_CASES_202003091458.csv\")\n",
    "data.tail()\n",
    "data.isna().sum()\n",
    "df=data[['ID','CREATED_AT','UPDATED_AT','A_NUMBER','FIRST_NAME','LAST_NAME','DATE_OF_BIRTH','STREET_ADDRESS','CITY','ZIP_CODE','STATE','RECEIPT_NUMBER','ARCHIVED']]\n"
   ]
  },
  {
   "cell_type": "code",
   "execution_count": 323,
   "metadata": {},
   "outputs": [
    {
     "data": {
      "text/html": [
       "<div>\n",
       "<style scoped>\n",
       "    .dataframe tbody tr th:only-of-type {\n",
       "        vertical-align: middle;\n",
       "    }\n",
       "\n",
       "    .dataframe tbody tr th {\n",
       "        vertical-align: top;\n",
       "    }\n",
       "\n",
       "    .dataframe thead th {\n",
       "        text-align: right;\n",
       "    }\n",
       "</style>\n",
       "<table border=\"1\" class=\"dataframe\">\n",
       "  <thead>\n",
       "    <tr style=\"text-align: right;\">\n",
       "      <th></th>\n",
       "      <th>ID</th>\n",
       "      <th>CREATED_AT</th>\n",
       "      <th>UPDATED_AT</th>\n",
       "      <th>A_NUMBER</th>\n",
       "      <th>FIRST_NAME</th>\n",
       "      <th>LAST_NAME</th>\n",
       "      <th>DATE_OF_BIRTH</th>\n",
       "      <th>STREET_ADDRESS</th>\n",
       "      <th>CITY</th>\n",
       "      <th>ZIP_CODE</th>\n",
       "      <th>STATE</th>\n",
       "      <th>RECEIPT_NUMBER</th>\n",
       "      <th>ARCHIVED</th>\n",
       "    </tr>\n",
       "  </thead>\n",
       "  <tbody>\n",
       "    <tr>\n",
       "      <td>0</td>\n",
       "      <td>1</td>\n",
       "      <td>2018-03-06 21:27:25</td>\n",
       "      <td>2018-03-06 21:27:25</td>\n",
       "      <td>333444555</td>\n",
       "      <td>adsf</td>\n",
       "      <td>adf</td>\n",
       "      <td>1990-01-01 00:00:00</td>\n",
       "      <td></td>\n",
       "      <td></td>\n",
       "      <td>20001</td>\n",
       "      <td>AL</td>\n",
       "      <td>ZAR1800100020</td>\n",
       "      <td>false</td>\n",
       "    </tr>\n",
       "  </tbody>\n",
       "</table>\n",
       "</div>"
      ],
      "text/plain": [
       "   ID           CREATED_AT           UPDATED_AT   A_NUMBER FIRST_NAME  \\\n",
       "0   1  2018-03-06 21:27:25  2018-03-06 21:27:25  333444555       adsf   \n",
       "\n",
       "  LAST_NAME        DATE_OF_BIRTH STREET_ADDRESS CITY  ZIP_CODE STATE  \\\n",
       "0       adf  1990-01-01 00:00:00                         20001    AL   \n",
       "\n",
       "  RECEIPT_NUMBER ARCHIVED  \n",
       "0  ZAR1800100020    false  "
      ]
     },
     "execution_count": 323,
     "metadata": {},
     "output_type": "execute_result"
    }
   ],
   "source": [
    "df[0:1]"
   ]
  },
  {
   "cell_type": "code",
   "execution_count": 324,
   "metadata": {},
   "outputs": [
    {
     "data": {
      "text/html": [
       "<div>\n",
       "<style scoped>\n",
       "    .dataframe tbody tr th:only-of-type {\n",
       "        vertical-align: middle;\n",
       "    }\n",
       "\n",
       "    .dataframe tbody tr th {\n",
       "        vertical-align: top;\n",
       "    }\n",
       "\n",
       "    .dataframe thead th {\n",
       "        text-align: right;\n",
       "    }\n",
       "</style>\n",
       "<table border=\"1\" class=\"dataframe\">\n",
       "  <thead>\n",
       "    <tr style=\"text-align: right;\">\n",
       "      <th></th>\n",
       "      <th>ID</th>\n",
       "      <th>CREATED_AT</th>\n",
       "      <th>UPDATED_AT</th>\n",
       "      <th>A_NUMBER</th>\n",
       "      <th>FIRST_NAME</th>\n",
       "      <th>LAST_NAME</th>\n",
       "      <th>DATE_OF_BIRTH</th>\n",
       "      <th>STREET_ADDRESS</th>\n",
       "      <th>CITY</th>\n",
       "      <th>ZIP_CODE</th>\n",
       "      <th>STATE</th>\n",
       "      <th>RECEIPT_NUMBER</th>\n",
       "      <th>ARCHIVED</th>\n",
       "    </tr>\n",
       "  </thead>\n",
       "  <tbody>\n",
       "    <tr>\n",
       "      <td>199</td>\n",
       "      <td>217</td>\n",
       "      <td>2019-03-26 15:35:08</td>\n",
       "      <td>2019-03-26 15:35:08</td>\n",
       "      <td>444985050</td>\n",
       "      <td>WARREN</td>\n",
       "      <td>HARDING</td>\n",
       "      <td>2003-03-03 00:00:00</td>\n",
       "      <td>123 ASODIFJ</td>\n",
       "      <td>ASDOFIJ</td>\n",
       "      <td>22209</td>\n",
       "      <td>VA</td>\n",
       "      <td>ZAR1900105130</td>\n",
       "      <td>f</td>\n",
       "    </tr>\n",
       "    <tr>\n",
       "      <td>200</td>\n",
       "      <td>218</td>\n",
       "      <td>2019-03-26 15:49:27</td>\n",
       "      <td>2019-03-31 03:17:00</td>\n",
       "      <td>334566897</td>\n",
       "      <td>ANDREW</td>\n",
       "      <td>JACKSON</td>\n",
       "      <td>1992-09-24 00:00:00</td>\n",
       "      <td>123 ASDOIJF</td>\n",
       "      <td>ASDFOIJ</td>\n",
       "      <td>22209</td>\n",
       "      <td>VA</td>\n",
       "      <td>ZAR1900105140</td>\n",
       "      <td>f</td>\n",
       "    </tr>\n",
       "    <tr>\n",
       "      <td>201</td>\n",
       "      <td>219</td>\n",
       "      <td>2019-03-26 15:50:30</td>\n",
       "      <td>2019-03-31 03:17:00</td>\n",
       "      <td>882244654</td>\n",
       "      <td>JAMES</td>\n",
       "      <td>GARFIELD</td>\n",
       "      <td>1964-07-04 00:00:00</td>\n",
       "      <td>123 ASDOIJ</td>\n",
       "      <td>ASDFOIJ</td>\n",
       "      <td>22209</td>\n",
       "      <td>VA</td>\n",
       "      <td>ZAR1900105150</td>\n",
       "      <td>f</td>\n",
       "    </tr>\n",
       "    <tr>\n",
       "      <td>202</td>\n",
       "      <td>220</td>\n",
       "      <td>2019-03-26 15:51:14</td>\n",
       "      <td>2019-03-31 03:17:00</td>\n",
       "      <td>102938475</td>\n",
       "      <td>WOODROW</td>\n",
       "      <td>WILSON</td>\n",
       "      <td>1988-10-04 00:00:00</td>\n",
       "      <td>123 ASDOFIJ</td>\n",
       "      <td>ASDOFIJ</td>\n",
       "      <td>22209</td>\n",
       "      <td>VA</td>\n",
       "      <td>ZAR1900105160</td>\n",
       "      <td>f</td>\n",
       "    </tr>\n",
       "    <tr>\n",
       "      <td>203</td>\n",
       "      <td>221</td>\n",
       "      <td>2019-03-26 15:51:56</td>\n",
       "      <td>2019-03-31 03:17:00</td>\n",
       "      <td>886497532</td>\n",
       "      <td>ZACHARY</td>\n",
       "      <td>TAYLOR</td>\n",
       "      <td>1993-10-03 00:00:00</td>\n",
       "      <td>123 ASDOFIJ</td>\n",
       "      <td>ASOIFJ</td>\n",
       "      <td>22209</td>\n",
       "      <td>VA</td>\n",
       "      <td>ZAR1900105170</td>\n",
       "      <td>f</td>\n",
       "    </tr>\n",
       "  </tbody>\n",
       "</table>\n",
       "</div>"
      ],
      "text/plain": [
       "      ID           CREATED_AT           UPDATED_AT   A_NUMBER FIRST_NAME  \\\n",
       "199  217  2019-03-26 15:35:08  2019-03-26 15:35:08  444985050     WARREN   \n",
       "200  218  2019-03-26 15:49:27  2019-03-31 03:17:00  334566897     ANDREW   \n",
       "201  219  2019-03-26 15:50:30  2019-03-31 03:17:00  882244654      JAMES   \n",
       "202  220  2019-03-26 15:51:14  2019-03-31 03:17:00  102938475    WOODROW   \n",
       "203  221  2019-03-26 15:51:56  2019-03-31 03:17:00  886497532    ZACHARY   \n",
       "\n",
       "    LAST_NAME        DATE_OF_BIRTH STREET_ADDRESS     CITY  ZIP_CODE STATE  \\\n",
       "199   HARDING  2003-03-03 00:00:00    123 ASODIFJ  ASDOFIJ     22209    VA   \n",
       "200   JACKSON  1992-09-24 00:00:00    123 ASDOIJF  ASDFOIJ     22209    VA   \n",
       "201  GARFIELD  1964-07-04 00:00:00     123 ASDOIJ  ASDFOIJ     22209    VA   \n",
       "202    WILSON  1988-10-04 00:00:00    123 ASDOFIJ  ASDOFIJ     22209    VA   \n",
       "203    TAYLOR  1993-10-03 00:00:00    123 ASDOFIJ   ASOIFJ     22209    VA   \n",
       "\n",
       "    RECEIPT_NUMBER ARCHIVED  \n",
       "199  ZAR1900105130        f  \n",
       "200  ZAR1900105140        f  \n",
       "201  ZAR1900105150        f  \n",
       "202  ZAR1900105160        f  \n",
       "203  ZAR1900105170        f  "
      ]
     },
     "execution_count": 324,
     "metadata": {},
     "output_type": "execute_result"
    }
   ],
   "source": [
    "df.tail()"
   ]
  },
  {
   "cell_type": "code",
   "execution_count": 325,
   "metadata": {},
   "outputs": [
    {
     "data": {
      "text/plain": [
       "(204, 13)"
      ]
     },
     "execution_count": 325,
     "metadata": {},
     "output_type": "execute_result"
    }
   ],
   "source": [
    "df.shape"
   ]
  },
  {
   "cell_type": "code",
   "execution_count": 326,
   "metadata": {},
   "outputs": [],
   "source": [
    "ex=df[0:1]"
   ]
  },
  {
   "cell_type": "code",
   "execution_count": 327,
   "metadata": {},
   "outputs": [],
   "source": [
    "#ex2=ex.replace([0],[204])"
   ]
  },
  {
   "cell_type": "code",
   "execution_count": 328,
   "metadata": {},
   "outputs": [],
   "source": [
    "ex2=ex.replace([1],[222])"
   ]
  },
  {
   "cell_type": "code",
   "execution_count": 329,
   "metadata": {},
   "outputs": [],
   "source": [
    "df=pd.DataFrame.append(df,ex2)\n",
    "#df=pd.reindex(pd.index(list(range(204))))\n",
    "df=df.reset_index(drop=True)"
   ]
  },
  {
   "cell_type": "code",
   "execution_count": 330,
   "metadata": {
    "scrolled": true
   },
   "outputs": [
    {
     "data": {
      "text/html": [
       "<div>\n",
       "<style scoped>\n",
       "    .dataframe tbody tr th:only-of-type {\n",
       "        vertical-align: middle;\n",
       "    }\n",
       "\n",
       "    .dataframe tbody tr th {\n",
       "        vertical-align: top;\n",
       "    }\n",
       "\n",
       "    .dataframe thead th {\n",
       "        text-align: right;\n",
       "    }\n",
       "</style>\n",
       "<table border=\"1\" class=\"dataframe\">\n",
       "  <thead>\n",
       "    <tr style=\"text-align: right;\">\n",
       "      <th></th>\n",
       "      <th>ID</th>\n",
       "      <th>CREATED_AT</th>\n",
       "      <th>UPDATED_AT</th>\n",
       "      <th>A_NUMBER</th>\n",
       "      <th>FIRST_NAME</th>\n",
       "      <th>LAST_NAME</th>\n",
       "      <th>DATE_OF_BIRTH</th>\n",
       "      <th>STREET_ADDRESS</th>\n",
       "      <th>CITY</th>\n",
       "      <th>ZIP_CODE</th>\n",
       "      <th>STATE</th>\n",
       "      <th>RECEIPT_NUMBER</th>\n",
       "      <th>ARCHIVED</th>\n",
       "    </tr>\n",
       "  </thead>\n",
       "  <tbody>\n",
       "    <tr>\n",
       "      <td>200</td>\n",
       "      <td>218</td>\n",
       "      <td>2019-03-26 15:49:27</td>\n",
       "      <td>2019-03-31 03:17:00</td>\n",
       "      <td>334566897</td>\n",
       "      <td>ANDREW</td>\n",
       "      <td>JACKSON</td>\n",
       "      <td>1992-09-24 00:00:00</td>\n",
       "      <td>123 ASDOIJF</td>\n",
       "      <td>ASDFOIJ</td>\n",
       "      <td>22209</td>\n",
       "      <td>VA</td>\n",
       "      <td>ZAR1900105140</td>\n",
       "      <td>f</td>\n",
       "    </tr>\n",
       "    <tr>\n",
       "      <td>201</td>\n",
       "      <td>219</td>\n",
       "      <td>2019-03-26 15:50:30</td>\n",
       "      <td>2019-03-31 03:17:00</td>\n",
       "      <td>882244654</td>\n",
       "      <td>JAMES</td>\n",
       "      <td>GARFIELD</td>\n",
       "      <td>1964-07-04 00:00:00</td>\n",
       "      <td>123 ASDOIJ</td>\n",
       "      <td>ASDFOIJ</td>\n",
       "      <td>22209</td>\n",
       "      <td>VA</td>\n",
       "      <td>ZAR1900105150</td>\n",
       "      <td>f</td>\n",
       "    </tr>\n",
       "    <tr>\n",
       "      <td>202</td>\n",
       "      <td>220</td>\n",
       "      <td>2019-03-26 15:51:14</td>\n",
       "      <td>2019-03-31 03:17:00</td>\n",
       "      <td>102938475</td>\n",
       "      <td>WOODROW</td>\n",
       "      <td>WILSON</td>\n",
       "      <td>1988-10-04 00:00:00</td>\n",
       "      <td>123 ASDOFIJ</td>\n",
       "      <td>ASDOFIJ</td>\n",
       "      <td>22209</td>\n",
       "      <td>VA</td>\n",
       "      <td>ZAR1900105160</td>\n",
       "      <td>f</td>\n",
       "    </tr>\n",
       "    <tr>\n",
       "      <td>203</td>\n",
       "      <td>221</td>\n",
       "      <td>2019-03-26 15:51:56</td>\n",
       "      <td>2019-03-31 03:17:00</td>\n",
       "      <td>886497532</td>\n",
       "      <td>ZACHARY</td>\n",
       "      <td>TAYLOR</td>\n",
       "      <td>1993-10-03 00:00:00</td>\n",
       "      <td>123 ASDOFIJ</td>\n",
       "      <td>ASOIFJ</td>\n",
       "      <td>22209</td>\n",
       "      <td>VA</td>\n",
       "      <td>ZAR1900105170</td>\n",
       "      <td>f</td>\n",
       "    </tr>\n",
       "    <tr>\n",
       "      <td>204</td>\n",
       "      <td>222</td>\n",
       "      <td>2018-03-06 21:27:25</td>\n",
       "      <td>2018-03-06 21:27:25</td>\n",
       "      <td>333444555</td>\n",
       "      <td>adsf</td>\n",
       "      <td>adf</td>\n",
       "      <td>1990-01-01 00:00:00</td>\n",
       "      <td></td>\n",
       "      <td></td>\n",
       "      <td>20001</td>\n",
       "      <td>AL</td>\n",
       "      <td>ZAR1800100020</td>\n",
       "      <td>false</td>\n",
       "    </tr>\n",
       "  </tbody>\n",
       "</table>\n",
       "</div>"
      ],
      "text/plain": [
       "      ID           CREATED_AT           UPDATED_AT   A_NUMBER FIRST_NAME  \\\n",
       "200  218  2019-03-26 15:49:27  2019-03-31 03:17:00  334566897     ANDREW   \n",
       "201  219  2019-03-26 15:50:30  2019-03-31 03:17:00  882244654      JAMES   \n",
       "202  220  2019-03-26 15:51:14  2019-03-31 03:17:00  102938475    WOODROW   \n",
       "203  221  2019-03-26 15:51:56  2019-03-31 03:17:00  886497532    ZACHARY   \n",
       "204  222  2018-03-06 21:27:25  2018-03-06 21:27:25  333444555       adsf   \n",
       "\n",
       "    LAST_NAME        DATE_OF_BIRTH STREET_ADDRESS     CITY  ZIP_CODE STATE  \\\n",
       "200   JACKSON  1992-09-24 00:00:00    123 ASDOIJF  ASDFOIJ     22209    VA   \n",
       "201  GARFIELD  1964-07-04 00:00:00     123 ASDOIJ  ASDFOIJ     22209    VA   \n",
       "202    WILSON  1988-10-04 00:00:00    123 ASDOFIJ  ASDOFIJ     22209    VA   \n",
       "203    TAYLOR  1993-10-03 00:00:00    123 ASDOFIJ   ASOIFJ     22209    VA   \n",
       "204       adf  1990-01-01 00:00:00                             20001    AL   \n",
       "\n",
       "    RECEIPT_NUMBER ARCHIVED  \n",
       "200  ZAR1900105140        f  \n",
       "201  ZAR1900105150        f  \n",
       "202  ZAR1900105160        f  \n",
       "203  ZAR1900105170        f  \n",
       "204  ZAR1800100020    false  "
      ]
     },
     "execution_count": 330,
     "metadata": {},
     "output_type": "execute_result"
    }
   ],
   "source": [
    "df.tail()"
   ]
  },
  {
   "cell_type": "code",
   "execution_count": 331,
   "metadata": {},
   "outputs": [
    {
     "data": {
      "text/plain": [
       "(205, 13)"
      ]
     },
     "execution_count": 331,
     "metadata": {},
     "output_type": "execute_result"
    }
   ],
   "source": [
    "df.shape"
   ]
  },
  {
   "cell_type": "code",
   "execution_count": 347,
   "metadata": {},
   "outputs": [],
   "source": [
    "import recordlinkage\n"
   ]
  },
  {
   "cell_type": "code",
   "execution_count": 348,
   "metadata": {},
   "outputs": [],
   "source": [
    "indexer = recordlinkage.Index()\n",
    "indexer.block('LAST_NAME')\n",
    "candidate_links = indexer.index(df)"
   ]
  },
  {
   "cell_type": "code",
   "execution_count": 349,
   "metadata": {},
   "outputs": [],
   "source": [
    "# Comparison step\n",
    "compare_cl = recordlinkage.Compare()\n",
    "compare_cl.string('LAST_NAME', 'LAST_NAME', method='jarowinkler', threshold=0.85, label='LAST_NAME')\n",
    "compare_cl.exact('DATE_OF_BIRTH', 'DATE_OF_BIRTH', label='DATE_OF_BIRTH')\n",
    "compare_cl.exact('STATE', 'STATE', label='STATE')\n",
    "compare_cl.exact('ZIP_CODE', 'ZIP_CODE', label='ZIP_CODE')\n",
    "compare_cl.string('STREET_ADDRESS', 'STREET_ADDRESS', threshold=0.85, label='STREET_ADDRESS')\n",
    "\n",
    "feature_vectors = compare_cl.compute(candidate_links, df)"
   ]
  },
  {
   "cell_type": "code",
   "execution_count": 380,
   "metadata": {
    "scrolled": true
   },
   "outputs": [
    {
     "data": {
      "text/plain": [
       "MultiIndex([(101,   0),\n",
       "            (117,  60),\n",
       "            (204,   0),\n",
       "            (204, 101),\n",
       "            (147,  45),\n",
       "            ( 97,  46),\n",
       "            ( 98,  46),\n",
       "            ( 98,  97),\n",
       "            (111,  49),\n",
       "            ( 86,  74),\n",
       "            (146,  99),\n",
       "            (151,  99),\n",
       "            (151, 146),\n",
       "            (152, 148)],\n",
       "           )"
      ]
     },
     "execution_count": 380,
     "metadata": {},
     "output_type": "execute_result"
    }
   ],
   "source": [
    "ecm = recordlinkage.ECMClassifier()\n",
    "ecmpred=ecm.fit_predict(feature_vectors)\n",
    "ecmpred"
   ]
  },
  {
   "cell_type": "code",
   "execution_count": 442,
   "metadata": {},
   "outputs": [
    {
     "data": {
      "text/plain": [
       "60   0      2.949148e-19\n",
       "101  0      7.260596e-01\n",
       "     60     1.451991e-19\n",
       "117  0      1.451991e-19\n",
       "     60     7.260596e-01\n",
       "     101    1.451991e-19\n",
       "204  0      9.919720e-01\n",
       "     60     2.949148e-19\n",
       "     101    7.260596e-01\n",
       "     117    1.451991e-19\n",
       "83   1      2.949148e-19\n",
       "85   2      3.564100e-01\n",
       "87   12     2.949148e-19\n",
       "21   14     6.963549e-19\n",
       "66   24     1.493673e-20\n",
       "165  24     1.493673e-20\n",
       "     66     1.493673e-20\n",
       "118  35     1.493673e-20\n",
       "147  45     7.260596e-01\n",
       "97   46     9.919720e-01\n",
       "98   46     9.919720e-01\n",
       "     97     9.919720e-01\n",
       "110  49     1.493673e-20\n",
       "111  49     8.622250e-01\n",
       "     110    3.033809e-20\n",
       "53   51     1.493673e-20\n",
       "113  51     1.493673e-20\n",
       "     53     1.493673e-20\n",
       "86   74     9.838281e-01\n",
       "82   76     3.033809e-20\n",
       "90   78     1.451991e-19\n",
       "146  99     7.260596e-01\n",
       "151  99     7.260596e-01\n",
       "     146    9.919720e-01\n",
       "185  107    2.142389e-01\n",
       "130  122    1.493673e-20\n",
       "152  148    8.433413e-01\n",
       "dtype: float64"
      ]
     },
     "execution_count": 442,
     "metadata": {},
     "output_type": "execute_result"
    }
   ],
   "source": [
    "ecp=ecm.prob(feature_vectors)\n",
    "type(ecp)\n",
    "#ecp.values.round(5)\n",
    "#ecp.shape\n",
    "ecp\n",
    "#feature_vectors"
   ]
  },
  {
   "cell_type": "code",
   "execution_count": 390,
   "metadata": {},
   "outputs": [
    {
     "data": {
      "text/plain": [
       "(37,)"
      ]
     },
     "execution_count": 390,
     "metadata": {},
     "output_type": "execute_result"
    }
   ],
   "source": [
    "ecp.shape"
   ]
  },
  {
   "cell_type": "code",
   "execution_count": 451,
   "metadata": {},
   "outputs": [],
   "source": [
    "ec_prob=pd.DataFrame(ecp.values.round(5))\n",
    "#ec_prob"
   ]
  },
  {
   "cell_type": "code",
   "execution_count": 450,
   "metadata": {
    "scrolled": true
   },
   "outputs": [
    {
     "data": {
      "text/html": [
       "<div>\n",
       "<style scoped>\n",
       "    .dataframe tbody tr th:only-of-type {\n",
       "        vertical-align: middle;\n",
       "    }\n",
       "\n",
       "    .dataframe tbody tr th {\n",
       "        vertical-align: top;\n",
       "    }\n",
       "\n",
       "    .dataframe thead th {\n",
       "        text-align: right;\n",
       "    }\n",
       "</style>\n",
       "<table border=\"1\" class=\"dataframe\">\n",
       "  <thead>\n",
       "    <tr style=\"text-align: right;\">\n",
       "      <th></th>\n",
       "      <th></th>\n",
       "      <th>0</th>\n",
       "      <th>prob</th>\n",
       "    </tr>\n",
       "  </thead>\n",
       "  <tbody>\n",
       "    <tr>\n",
       "      <td>60</td>\n",
       "      <td>0</td>\n",
       "      <td>2.949148e-19</td>\n",
       "      <td>0.00000</td>\n",
       "    </tr>\n",
       "    <tr>\n",
       "      <td rowspan=\"2\" valign=\"top\">101</td>\n",
       "      <td>0</td>\n",
       "      <td>7.260596e-01</td>\n",
       "      <td>0.72606</td>\n",
       "    </tr>\n",
       "    <tr>\n",
       "      <td>60</td>\n",
       "      <td>1.451991e-19</td>\n",
       "      <td>0.00000</td>\n",
       "    </tr>\n",
       "    <tr>\n",
       "      <td rowspan=\"3\" valign=\"top\">117</td>\n",
       "      <td>0</td>\n",
       "      <td>1.451991e-19</td>\n",
       "      <td>0.00000</td>\n",
       "    </tr>\n",
       "    <tr>\n",
       "      <td>60</td>\n",
       "      <td>7.260596e-01</td>\n",
       "      <td>0.72606</td>\n",
       "    </tr>\n",
       "    <tr>\n",
       "      <td>101</td>\n",
       "      <td>1.451991e-19</td>\n",
       "      <td>0.00000</td>\n",
       "    </tr>\n",
       "    <tr>\n",
       "      <td rowspan=\"4\" valign=\"top\">204</td>\n",
       "      <td>0</td>\n",
       "      <td>9.919720e-01</td>\n",
       "      <td>0.99197</td>\n",
       "    </tr>\n",
       "    <tr>\n",
       "      <td>60</td>\n",
       "      <td>2.949148e-19</td>\n",
       "      <td>0.00000</td>\n",
       "    </tr>\n",
       "    <tr>\n",
       "      <td>101</td>\n",
       "      <td>7.260596e-01</td>\n",
       "      <td>0.72606</td>\n",
       "    </tr>\n",
       "    <tr>\n",
       "      <td>117</td>\n",
       "      <td>1.451991e-19</td>\n",
       "      <td>0.00000</td>\n",
       "    </tr>\n",
       "    <tr>\n",
       "      <td>83</td>\n",
       "      <td>1</td>\n",
       "      <td>2.949148e-19</td>\n",
       "      <td>0.00000</td>\n",
       "    </tr>\n",
       "    <tr>\n",
       "      <td>85</td>\n",
       "      <td>2</td>\n",
       "      <td>3.564100e-01</td>\n",
       "      <td>0.35641</td>\n",
       "    </tr>\n",
       "    <tr>\n",
       "      <td>87</td>\n",
       "      <td>12</td>\n",
       "      <td>2.949148e-19</td>\n",
       "      <td>0.00000</td>\n",
       "    </tr>\n",
       "    <tr>\n",
       "      <td>21</td>\n",
       "      <td>14</td>\n",
       "      <td>6.963549e-19</td>\n",
       "      <td>0.00000</td>\n",
       "    </tr>\n",
       "    <tr>\n",
       "      <td>66</td>\n",
       "      <td>24</td>\n",
       "      <td>1.493673e-20</td>\n",
       "      <td>0.00000</td>\n",
       "    </tr>\n",
       "    <tr>\n",
       "      <td rowspan=\"2\" valign=\"top\">165</td>\n",
       "      <td>24</td>\n",
       "      <td>1.493673e-20</td>\n",
       "      <td>0.00000</td>\n",
       "    </tr>\n",
       "    <tr>\n",
       "      <td>66</td>\n",
       "      <td>1.493673e-20</td>\n",
       "      <td>0.00000</td>\n",
       "    </tr>\n",
       "    <tr>\n",
       "      <td>118</td>\n",
       "      <td>35</td>\n",
       "      <td>1.493673e-20</td>\n",
       "      <td>0.00000</td>\n",
       "    </tr>\n",
       "    <tr>\n",
       "      <td>147</td>\n",
       "      <td>45</td>\n",
       "      <td>7.260596e-01</td>\n",
       "      <td>0.72606</td>\n",
       "    </tr>\n",
       "    <tr>\n",
       "      <td>97</td>\n",
       "      <td>46</td>\n",
       "      <td>9.919720e-01</td>\n",
       "      <td>0.99197</td>\n",
       "    </tr>\n",
       "    <tr>\n",
       "      <td rowspan=\"2\" valign=\"top\">98</td>\n",
       "      <td>46</td>\n",
       "      <td>9.919720e-01</td>\n",
       "      <td>0.99197</td>\n",
       "    </tr>\n",
       "    <tr>\n",
       "      <td>97</td>\n",
       "      <td>9.919720e-01</td>\n",
       "      <td>0.99197</td>\n",
       "    </tr>\n",
       "    <tr>\n",
       "      <td>110</td>\n",
       "      <td>49</td>\n",
       "      <td>1.493673e-20</td>\n",
       "      <td>0.00000</td>\n",
       "    </tr>\n",
       "    <tr>\n",
       "      <td rowspan=\"2\" valign=\"top\">111</td>\n",
       "      <td>49</td>\n",
       "      <td>8.622250e-01</td>\n",
       "      <td>0.86222</td>\n",
       "    </tr>\n",
       "    <tr>\n",
       "      <td>110</td>\n",
       "      <td>3.033809e-20</td>\n",
       "      <td>0.00000</td>\n",
       "    </tr>\n",
       "    <tr>\n",
       "      <td>53</td>\n",
       "      <td>51</td>\n",
       "      <td>1.493673e-20</td>\n",
       "      <td>0.00000</td>\n",
       "    </tr>\n",
       "    <tr>\n",
       "      <td rowspan=\"2\" valign=\"top\">113</td>\n",
       "      <td>51</td>\n",
       "      <td>1.493673e-20</td>\n",
       "      <td>0.00000</td>\n",
       "    </tr>\n",
       "    <tr>\n",
       "      <td>53</td>\n",
       "      <td>1.493673e-20</td>\n",
       "      <td>0.00000</td>\n",
       "    </tr>\n",
       "    <tr>\n",
       "      <td>86</td>\n",
       "      <td>74</td>\n",
       "      <td>9.838281e-01</td>\n",
       "      <td>0.98383</td>\n",
       "    </tr>\n",
       "    <tr>\n",
       "      <td>82</td>\n",
       "      <td>76</td>\n",
       "      <td>3.033809e-20</td>\n",
       "      <td>0.00000</td>\n",
       "    </tr>\n",
       "    <tr>\n",
       "      <td>90</td>\n",
       "      <td>78</td>\n",
       "      <td>1.451991e-19</td>\n",
       "      <td>0.00000</td>\n",
       "    </tr>\n",
       "    <tr>\n",
       "      <td>146</td>\n",
       "      <td>99</td>\n",
       "      <td>7.260596e-01</td>\n",
       "      <td>0.72606</td>\n",
       "    </tr>\n",
       "    <tr>\n",
       "      <td rowspan=\"2\" valign=\"top\">151</td>\n",
       "      <td>99</td>\n",
       "      <td>7.260596e-01</td>\n",
       "      <td>0.72606</td>\n",
       "    </tr>\n",
       "    <tr>\n",
       "      <td>146</td>\n",
       "      <td>9.919720e-01</td>\n",
       "      <td>0.99197</td>\n",
       "    </tr>\n",
       "    <tr>\n",
       "      <td>185</td>\n",
       "      <td>107</td>\n",
       "      <td>2.142389e-01</td>\n",
       "      <td>0.21424</td>\n",
       "    </tr>\n",
       "    <tr>\n",
       "      <td>130</td>\n",
       "      <td>122</td>\n",
       "      <td>1.493673e-20</td>\n",
       "      <td>0.00000</td>\n",
       "    </tr>\n",
       "    <tr>\n",
       "      <td>152</td>\n",
       "      <td>148</td>\n",
       "      <td>8.433413e-01</td>\n",
       "      <td>0.84334</td>\n",
       "    </tr>\n",
       "  </tbody>\n",
       "</table>\n",
       "</div>"
      ],
      "text/plain": [
       "                    0     prob\n",
       "60  0    2.949148e-19  0.00000\n",
       "101 0    7.260596e-01  0.72606\n",
       "    60   1.451991e-19  0.00000\n",
       "117 0    1.451991e-19  0.00000\n",
       "    60   7.260596e-01  0.72606\n",
       "    101  1.451991e-19  0.00000\n",
       "204 0    9.919720e-01  0.99197\n",
       "    60   2.949148e-19  0.00000\n",
       "    101  7.260596e-01  0.72606\n",
       "    117  1.451991e-19  0.00000\n",
       "83  1    2.949148e-19  0.00000\n",
       "85  2    3.564100e-01  0.35641\n",
       "87  12   2.949148e-19  0.00000\n",
       "21  14   6.963549e-19  0.00000\n",
       "66  24   1.493673e-20  0.00000\n",
       "165 24   1.493673e-20  0.00000\n",
       "    66   1.493673e-20  0.00000\n",
       "118 35   1.493673e-20  0.00000\n",
       "147 45   7.260596e-01  0.72606\n",
       "97  46   9.919720e-01  0.99197\n",
       "98  46   9.919720e-01  0.99197\n",
       "    97   9.919720e-01  0.99197\n",
       "110 49   1.493673e-20  0.00000\n",
       "111 49   8.622250e-01  0.86222\n",
       "    110  3.033809e-20  0.00000\n",
       "53  51   1.493673e-20  0.00000\n",
       "113 51   1.493673e-20  0.00000\n",
       "    53   1.493673e-20  0.00000\n",
       "86  74   9.838281e-01  0.98383\n",
       "82  76   3.033809e-20  0.00000\n",
       "90  78   1.451991e-19  0.00000\n",
       "146 99   7.260596e-01  0.72606\n",
       "151 99   7.260596e-01  0.72606\n",
       "    146  9.919720e-01  0.99197\n",
       "185 107  2.142389e-01  0.21424\n",
       "130 122  1.493673e-20  0.00000\n",
       "152 148  8.433413e-01  0.84334"
      ]
     },
     "execution_count": 450,
     "metadata": {},
     "output_type": "execute_result"
    }
   ],
   "source": [
    "ecp.to_frame().assign(prob=ec_prob.values)"
   ]
  },
  {
   "cell_type": "code",
   "execution_count": 386,
   "metadata": {},
   "outputs": [
    {
     "data": {
      "text/plain": [
       "(14,)"
      ]
     },
     "execution_count": 386,
     "metadata": {},
     "output_type": "execute_result"
    }
   ],
   "source": [
    "ecmpred.shape"
   ]
  },
  {
   "cell_type": "code",
   "execution_count": 356,
   "metadata": {},
   "outputs": [
    {
     "data": {
      "text/plain": [
       "(37,)"
      ]
     },
     "execution_count": 356,
     "metadata": {},
     "output_type": "execute_result"
    }
   ],
   "source": [
    "ecp.shape"
   ]
  },
  {
   "cell_type": "code",
   "execution_count": 363,
   "metadata": {},
   "outputs": [
    {
     "data": {
      "text/plain": [
       "38"
      ]
     },
     "execution_count": 363,
     "metadata": {},
     "output_type": "execute_result"
    }
   ],
   "source": [
    "round((ecmpred.shape[0]/ecp.shape[0])*100)"
   ]
  },
  {
   "cell_type": "code",
   "execution_count": null,
   "metadata": {},
   "outputs": [],
   "source": [
    "ecm.u_probs #proportion of non-links that are a match (1), (0) true negatives"
   ]
  },
  {
   "cell_type": "code",
   "execution_count": 459,
   "metadata": {},
   "outputs": [
    {
     "data": {
      "text/plain": [
       "{'LAST_NAME': {1.0: 1.0},\n",
       " 'DATE_OF_BIRTH': {0.0: 0.11389730369205624, 1.0: 0.886102696307944},\n",
       " 'STATE': {0.0: 3.357440019842515e-19, 1.0: 1.0},\n",
       " 'ZIP_CODE': {0.0: 0.510149714470735, 1.0: 0.4898502855292652},\n",
       " 'STREET_ADDRESS': {0.0: 0.45872444675531077, 1.0: 0.5412755532446893}}"
      ]
     },
     "execution_count": 459,
     "metadata": {},
     "output_type": "execute_result"
    }
   ],
   "source": [
    "ecm.m_probs #proportion of links that are a match (1), (1) true positives"
   ]
  },
  {
   "cell_type": "code",
   "execution_count": 460,
   "metadata": {},
   "outputs": [
    {
     "data": {
      "text/plain": [
       "0.3398226207404929"
      ]
     },
     "execution_count": 460,
     "metadata": {},
     "output_type": "execute_result"
    }
   ],
   "source": [
    "ecm.p"
   ]
  },
  {
   "cell_type": "code",
   "execution_count": 461,
   "metadata": {},
   "outputs": [
    {
     "data": {
      "text/plain": [
       "{'LAST_NAME': {1.0: 1.0},\n",
       " 'DATE_OF_BIRTH': {0.0: 0.20505131107022742, 1.0: 1.9932916264120137},\n",
       " 'STATE': {0.0: 3.905272393945862e-19, 1.0: 7.128590018685535},\n",
       " 'ZIP_CODE': {0.0: 0.7513237706222697, 1.0: 1.5260188821180585},\n",
       " 'STREET_ADDRESS': {0.0: 0.4823061992246142, 1.0: 11.070447591139445}}"
      ]
     },
     "execution_count": 461,
     "metadata": {},
     "output_type": "execute_result"
    }
   ],
   "source": [
    "ecm.weights"
   ]
  },
  {
   "cell_type": "code",
   "execution_count": 9,
   "metadata": {},
   "outputs": [
    {
     "data": {
      "text/plain": [
       "ID                                 94\n",
       "CREATED_AT        2018-05-29 18:26:24\n",
       "UPDATED_AT        2018-05-29 18:29:41\n",
       "A_NUMBER                    666555777\n",
       "FIRST_NAME                       sdfg\n",
       "LAST_NAME                         adf\n",
       "DATE_OF_BIRTH     1990-01-01 00:00:00\n",
       "STREET_ADDRESS                     df\n",
       "CITY                              dfg\n",
       "ZIP_CODE                        98112\n",
       "STATE                              AL\n",
       "RECEIPT_NUMBER          ZSF1800102900\n",
       "ARCHIVED                        false\n",
       "Name: 101, dtype: object"
      ]
     },
     "execution_count": 9,
     "metadata": {},
     "output_type": "execute_result"
    }
   ],
   "source": [
    "df.loc[101,:]"
   ]
  },
  {
   "cell_type": "code",
   "execution_count": 10,
   "metadata": {},
   "outputs": [
    {
     "data": {
      "text/plain": [
       "ID                                  1\n",
       "CREATED_AT        2018-03-06 21:27:25\n",
       "UPDATED_AT        2018-03-06 21:27:25\n",
       "A_NUMBER                    333444555\n",
       "FIRST_NAME                       adsf\n",
       "LAST_NAME                         adf\n",
       "DATE_OF_BIRTH     1990-01-01 00:00:00\n",
       "STREET_ADDRESS                       \n",
       "CITY                                 \n",
       "ZIP_CODE                        20001\n",
       "STATE                              AL\n",
       "RECEIPT_NUMBER          ZAR1800100020\n",
       "ARCHIVED                        false\n",
       "Name: 0, dtype: object"
      ]
     },
     "execution_count": 10,
     "metadata": {},
     "output_type": "execute_result"
    }
   ],
   "source": [
    "df.loc[0,:]"
   ]
  },
  {
   "cell_type": "code",
   "execution_count": 453,
   "metadata": {},
   "outputs": [
    {
     "data": {
      "text/plain": [
       "ID                                222\n",
       "CREATED_AT        2018-03-06 21:27:25\n",
       "UPDATED_AT        2018-03-06 21:27:25\n",
       "A_NUMBER                    333444555\n",
       "FIRST_NAME                       adsf\n",
       "LAST_NAME                         adf\n",
       "DATE_OF_BIRTH     1990-01-01 00:00:00\n",
       "STREET_ADDRESS                       \n",
       "CITY                                 \n",
       "ZIP_CODE                        20001\n",
       "STATE                              AL\n",
       "RECEIPT_NUMBER          ZAR1800100020\n",
       "ARCHIVED                        false\n",
       "Name: 204, dtype: object"
      ]
     },
     "execution_count": 453,
     "metadata": {},
     "output_type": "execute_result"
    }
   ],
   "source": [
    "df.loc[204,:]"
   ]
  },
  {
   "cell_type": "code",
   "execution_count": 454,
   "metadata": {},
   "outputs": [
    {
     "data": {
      "text/plain": [
       "ID                                 94\n",
       "CREATED_AT        2018-05-29 18:26:24\n",
       "UPDATED_AT        2018-05-29 18:29:41\n",
       "A_NUMBER                    666555777\n",
       "FIRST_NAME                       sdfg\n",
       "LAST_NAME                         adf\n",
       "DATE_OF_BIRTH     1990-01-01 00:00:00\n",
       "STREET_ADDRESS                     df\n",
       "CITY                              dfg\n",
       "ZIP_CODE                        98112\n",
       "STATE                              AL\n",
       "RECEIPT_NUMBER          ZSF1800102900\n",
       "ARCHIVED                        false\n",
       "Name: 101, dtype: object"
      ]
     },
     "execution_count": 454,
     "metadata": {},
     "output_type": "execute_result"
    }
   ],
   "source": [
    "df.loc[101,:]"
   ]
  },
  {
   "cell_type": "code",
   "execution_count": null,
   "metadata": {},
   "outputs": [],
   "source": []
  }
 ],
 "metadata": {
  "kernelspec": {
   "display_name": "Python 3",
   "language": "python",
   "name": "python3"
  },
  "language_info": {
   "codemirror_mode": {
    "name": "ipython",
    "version": 3
   },
   "file_extension": ".py",
   "mimetype": "text/x-python",
   "name": "python",
   "nbconvert_exporter": "python",
   "pygments_lexer": "ipython3",
   "version": "3.7.4"
  }
 },
 "nbformat": 4,
 "nbformat_minor": 2
}
